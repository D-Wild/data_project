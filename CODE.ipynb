{
 "cells": [
  {
   "cell_type": "code",
   "execution_count": 3,
   "metadata": {
    "slideshow": {
     "slide_type": "slide"
    }
   },
   "outputs": [],
   "source": [
    "import matplotlib\n",
    "import matplotlib.pyplot as plt\n",
    "import numpy as np\n",
    "import pandas as pd\n",
    "import os\n",
    "from datetime import datetime"
   ]
  },
  {
   "cell_type": "code",
   "execution_count": 4,
   "metadata": {
    "slideshow": {
     "slide_type": "slide"
    }
   },
   "outputs": [
    {
     "name": "stdout",
     "output_type": "stream",
     "text": [
      "loading from file\n",
      "done\n"
     ]
    }
   ],
   "source": [
    "if os.path.isfile(\"livestock-exports.xlsx\"):\n",
    "    filepath = \"livestock-exports.xlsx\"\n",
    "    print(\"loading from file\")\n",
    "\n",
    "ld = pd.read_excel(filepath)\n",
    "print(\"done\")"
   ]
  },
  {
   "cell_type": "code",
   "execution_count": 5,
   "metadata": {
    "slideshow": {
     "slide_type": "slide"
    }
   },
   "outputs": [
    {
     "data": {
      "text/html": [
       "<div>\n",
       "<style scoped>\n",
       "    .dataframe tbody tr th:only-of-type {\n",
       "        vertical-align: middle;\n",
       "    }\n",
       "\n",
       "    .dataframe tbody tr th {\n",
       "        vertical-align: top;\n",
       "    }\n",
       "\n",
       "    .dataframe thead th {\n",
       "        text-align: right;\n",
       "    }\n",
       "</style>\n",
       "<table border=\"1\" class=\"dataframe\">\n",
       "  <thead>\n",
       "    <tr style=\"text-align: right;\">\n",
       "      <th></th>\n",
       "      <th>Mode</th>\n",
       "      <th>Month</th>\n",
       "      <th>State</th>\n",
       "      <th>Load Port</th>\n",
       "      <th>Species</th>\n",
       "      <th>End Use</th>\n",
       "      <th>Country</th>\n",
       "      <th>Quantity</th>\n",
       "      <th>Year</th>\n",
       "    </tr>\n",
       "  </thead>\n",
       "  <tbody>\n",
       "    <tr>\n",
       "      <th>0</th>\n",
       "      <td>Air</td>\n",
       "      <td>Jul</td>\n",
       "      <td>SA</td>\n",
       "      <td>Adelaide</td>\n",
       "      <td>Goats</td>\n",
       "      <td>Slaughter</td>\n",
       "      <td>Malaysia</td>\n",
       "      <td>100</td>\n",
       "      <td>2014</td>\n",
       "    </tr>\n",
       "    <tr>\n",
       "      <th>1</th>\n",
       "      <td>Sea</td>\n",
       "      <td>Jul</td>\n",
       "      <td>SA</td>\n",
       "      <td>Port Adelaide</td>\n",
       "      <td>Sheep</td>\n",
       "      <td>Slaughter</td>\n",
       "      <td>Bahrain</td>\n",
       "      <td>22000</td>\n",
       "      <td>2014</td>\n",
       "    </tr>\n",
       "    <tr>\n",
       "      <th>2</th>\n",
       "      <td>Sea</td>\n",
       "      <td>Jul</td>\n",
       "      <td>SA</td>\n",
       "      <td>Port Adelaide</td>\n",
       "      <td>Sheep</td>\n",
       "      <td>Slaughter</td>\n",
       "      <td>Qatar</td>\n",
       "      <td>25484</td>\n",
       "      <td>2014</td>\n",
       "    </tr>\n",
       "    <tr>\n",
       "      <th>3</th>\n",
       "      <td>Air</td>\n",
       "      <td>Jul</td>\n",
       "      <td>SA</td>\n",
       "      <td>Adelaide</td>\n",
       "      <td>Sheep</td>\n",
       "      <td>Slaughter</td>\n",
       "      <td>Malaysia</td>\n",
       "      <td>111</td>\n",
       "      <td>2014</td>\n",
       "    </tr>\n",
       "    <tr>\n",
       "      <th>4</th>\n",
       "      <td>Sea</td>\n",
       "      <td>Jul</td>\n",
       "      <td>WA</td>\n",
       "      <td>Fremantle</td>\n",
       "      <td>Cattle</td>\n",
       "      <td>Slaughter</td>\n",
       "      <td>Egypt</td>\n",
       "      <td>2403</td>\n",
       "      <td>2014</td>\n",
       "    </tr>\n",
       "  </tbody>\n",
       "</table>\n",
       "</div>"
      ],
      "text/plain": [
       "  Mode Month State      Load Port Species    End Use   Country  Quantity  Year\n",
       "0  Air   Jul    SA       Adelaide   Goats  Slaughter  Malaysia       100  2014\n",
       "1  Sea   Jul    SA  Port Adelaide   Sheep  Slaughter   Bahrain     22000  2014\n",
       "2  Sea   Jul    SA  Port Adelaide   Sheep  Slaughter     Qatar     25484  2014\n",
       "3  Air   Jul    SA       Adelaide   Sheep  Slaughter  Malaysia       111  2014\n",
       "4  Sea   Jul    WA      Fremantle  Cattle  Slaughter     Egypt      2403  2014"
      ]
     },
     "execution_count": 5,
     "metadata": {},
     "output_type": "execute_result"
    }
   ],
   "source": [
    "ld.head()"
   ]
  },
  {
   "cell_type": "code",
   "execution_count": 44,
   "metadata": {
    "slideshow": {
     "slide_type": "slide"
    }
   },
   "outputs": [
    {
     "name": "stdout",
     "output_type": "stream",
     "text": [
      "975752\n"
     ]
    }
   ],
   "source": [
    "wa_ld_2014 = ld.loc[(ld['State'] == 'WA') & (ld['Species'] == 'Sheep') & (ld['Year'] == 2014)]\n",
    "Total = wa_ld_2014['Quantity'].sum()\n",
    "\n",
    "print (Total)"
   ]
  },
  {
   "cell_type": "code",
   "execution_count": null,
   "metadata": {
    "slideshow": {
     "slide_type": "slide"
    }
   },
   "outputs": [],
   "source": []
  }
 ],
 "metadata": {
  "celltoolbar": "Slideshow",
  "interpreter": {
   "hash": "212563bfdaf8bb9f424a16ac051a44bd64502159708ab53c292f80bbdce1ce1c"
  },
  "kernelspec": {
   "display_name": "Python 3",
   "language": "python",
   "name": "python3"
  },
  "language_info": {
   "codemirror_mode": {
    "name": "ipython",
    "version": 3
   },
   "file_extension": ".py",
   "mimetype": "text/x-python",
   "name": "python",
   "nbconvert_exporter": "python",
   "pygments_lexer": "ipython3",
   "version": "3.8.8"
  }
 },
 "nbformat": 4,
 "nbformat_minor": 2
}
