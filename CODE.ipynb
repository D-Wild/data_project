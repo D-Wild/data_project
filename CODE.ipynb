{
 "cells": [
  {
   "cell_type": "code",
   "execution_count": 13,
   "source": [
    "import matplotlib\r\n",
    "import matplotlib.pyplot as plt\r\n",
    "import numpy as np\r\n",
    "import pandas as pd\r\n",
    "import os\r\n",
    "from datetime import datetime"
   ],
   "outputs": [],
   "metadata": {}
  },
  {
   "cell_type": "code",
   "execution_count": 20,
   "source": [
    "if os.path.isfile(\"livestock-exports.xlsx\"):\r\n",
    "    filepath = \"livestock-exports.xlsx\"\r\n",
    "    print(\"loading from file\")\r\n",
    "\r\n",
    "ld = pd.read_excel(filepath)\r\n",
    "print(\"done\")"
   ],
   "outputs": [
    {
     "output_type": "stream",
     "name": "stdout",
     "text": [
      "loading from file\n",
      "done\n"
     ]
    }
   ],
   "metadata": {}
  },
  {
   "cell_type": "code",
   "execution_count": 21,
   "source": [
    "ld.head()"
   ],
   "outputs": [
    {
     "output_type": "execute_result",
     "data": {
      "text/plain": [
       "  Mode Month State      Load Port Species    End Use   Country  Quantity  Year\n",
       "0  Air   Jul    SA       Adelaide   Goats  Slaughter  Malaysia       100  2014\n",
       "1  Sea   Jul    SA  Port Adelaide   Sheep  Slaughter   Bahrain     22000  2014\n",
       "2  Sea   Jul    SA  Port Adelaide   Sheep  Slaughter     Qatar     25484  2014\n",
       "3  Air   Jul    SA       Adelaide   Sheep  Slaughter  Malaysia       111  2014\n",
       "4  Sea   Jul    WA      Fremantle  Cattle  Slaughter     Egypt      2403  2014"
      ],
      "text/html": [
       "<div>\n",
       "<style scoped>\n",
       "    .dataframe tbody tr th:only-of-type {\n",
       "        vertical-align: middle;\n",
       "    }\n",
       "\n",
       "    .dataframe tbody tr th {\n",
       "        vertical-align: top;\n",
       "    }\n",
       "\n",
       "    .dataframe thead th {\n",
       "        text-align: right;\n",
       "    }\n",
       "</style>\n",
       "<table border=\"1\" class=\"dataframe\">\n",
       "  <thead>\n",
       "    <tr style=\"text-align: right;\">\n",
       "      <th></th>\n",
       "      <th>Mode</th>\n",
       "      <th>Month</th>\n",
       "      <th>State</th>\n",
       "      <th>Load Port</th>\n",
       "      <th>Species</th>\n",
       "      <th>End Use</th>\n",
       "      <th>Country</th>\n",
       "      <th>Quantity</th>\n",
       "      <th>Year</th>\n",
       "    </tr>\n",
       "  </thead>\n",
       "  <tbody>\n",
       "    <tr>\n",
       "      <th>0</th>\n",
       "      <td>Air</td>\n",
       "      <td>Jul</td>\n",
       "      <td>SA</td>\n",
       "      <td>Adelaide</td>\n",
       "      <td>Goats</td>\n",
       "      <td>Slaughter</td>\n",
       "      <td>Malaysia</td>\n",
       "      <td>100</td>\n",
       "      <td>2014</td>\n",
       "    </tr>\n",
       "    <tr>\n",
       "      <th>1</th>\n",
       "      <td>Sea</td>\n",
       "      <td>Jul</td>\n",
       "      <td>SA</td>\n",
       "      <td>Port Adelaide</td>\n",
       "      <td>Sheep</td>\n",
       "      <td>Slaughter</td>\n",
       "      <td>Bahrain</td>\n",
       "      <td>22000</td>\n",
       "      <td>2014</td>\n",
       "    </tr>\n",
       "    <tr>\n",
       "      <th>2</th>\n",
       "      <td>Sea</td>\n",
       "      <td>Jul</td>\n",
       "      <td>SA</td>\n",
       "      <td>Port Adelaide</td>\n",
       "      <td>Sheep</td>\n",
       "      <td>Slaughter</td>\n",
       "      <td>Qatar</td>\n",
       "      <td>25484</td>\n",
       "      <td>2014</td>\n",
       "    </tr>\n",
       "    <tr>\n",
       "      <th>3</th>\n",
       "      <td>Air</td>\n",
       "      <td>Jul</td>\n",
       "      <td>SA</td>\n",
       "      <td>Adelaide</td>\n",
       "      <td>Sheep</td>\n",
       "      <td>Slaughter</td>\n",
       "      <td>Malaysia</td>\n",
       "      <td>111</td>\n",
       "      <td>2014</td>\n",
       "    </tr>\n",
       "    <tr>\n",
       "      <th>4</th>\n",
       "      <td>Sea</td>\n",
       "      <td>Jul</td>\n",
       "      <td>WA</td>\n",
       "      <td>Fremantle</td>\n",
       "      <td>Cattle</td>\n",
       "      <td>Slaughter</td>\n",
       "      <td>Egypt</td>\n",
       "      <td>2403</td>\n",
       "      <td>2014</td>\n",
       "    </tr>\n",
       "  </tbody>\n",
       "</table>\n",
       "</div>"
      ]
     },
     "metadata": {},
     "execution_count": 21
    }
   ],
   "metadata": {}
  }
 ],
 "metadata": {
  "orig_nbformat": 4,
  "language_info": {
   "name": "python",
   "version": "3.8.8",
   "mimetype": "text/x-python",
   "codemirror_mode": {
    "name": "ipython",
    "version": 3
   },
   "pygments_lexer": "ipython3",
   "nbconvert_exporter": "python",
   "file_extension": ".py"
  },
  "kernelspec": {
   "name": "python3",
   "display_name": "Python 3.8.8 64-bit ('base': conda)"
  },
  "interpreter": {
   "hash": "ccc2587a7910e4d4ca1f8a429c288a80a625c4b9bbf1a2249b6e812d276fe031"
  }
 },
 "nbformat": 4,
 "nbformat_minor": 2
}